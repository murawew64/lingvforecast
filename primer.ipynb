{
 "cells": [
  {
   "cell_type": "code",
   "execution_count": 33,
   "metadata": {},
   "outputs": [],
   "source": [
    "import numpy as np\n",
    "import pandas as pd\n",
    "import matplotlib.pyplot as plt"
   ]
  },
  {
   "cell_type": "code",
   "execution_count": 34,
   "metadata": {},
   "outputs": [
    {
     "data": {
      "text/html": [
       "<div>\n",
       "<style scoped>\n",
       "    .dataframe tbody tr th:only-of-type {\n",
       "        vertical-align: middle;\n",
       "    }\n",
       "\n",
       "    .dataframe tbody tr th {\n",
       "        vertical-align: top;\n",
       "    }\n",
       "\n",
       "    .dataframe thead th {\n",
       "        text-align: right;\n",
       "    }\n",
       "</style>\n",
       "<table border=\"1\" class=\"dataframe\">\n",
       "  <thead>\n",
       "    <tr style=\"text-align: right;\">\n",
       "      <th></th>\n",
       "      <th>A</th>\n",
       "      <th>B</th>\n",
       "      <th>C</th>\n",
       "      <th>D</th>\n",
       "      <th>E</th>\n",
       "    </tr>\n",
       "  </thead>\n",
       "  <tbody>\n",
       "    <tr>\n",
       "      <th>0</th>\n",
       "      <td>0.128448</td>\n",
       "      <td>-0.007028</td>\n",
       "      <td>0.406063</td>\n",
       "      <td>0.224619</td>\n",
       "      <td>-0.112626</td>\n",
       "    </tr>\n",
       "    <tr>\n",
       "      <th>1</th>\n",
       "      <td>0.035867</td>\n",
       "      <td>-0.076149</td>\n",
       "      <td>0.115081</td>\n",
       "      <td>0.100729</td>\n",
       "      <td>0.346266</td>\n",
       "    </tr>\n",
       "    <tr>\n",
       "      <th>2</th>\n",
       "      <td>0.294256</td>\n",
       "      <td>0.163872</td>\n",
       "      <td>0.496499</td>\n",
       "      <td>0.536332</td>\n",
       "      <td>0.733913</td>\n",
       "    </tr>\n",
       "    <tr>\n",
       "      <th>3</th>\n",
       "      <td>0.223441</td>\n",
       "      <td>0.589740</td>\n",
       "      <td>0.268639</td>\n",
       "      <td>0.502248</td>\n",
       "      <td>0.575839</td>\n",
       "    </tr>\n",
       "    <tr>\n",
       "      <th>4</th>\n",
       "      <td>0.207133</td>\n",
       "      <td>0.655951</td>\n",
       "      <td>0.566752</td>\n",
       "      <td>0.779078</td>\n",
       "      <td>1.139448</td>\n",
       "    </tr>\n",
       "  </tbody>\n",
       "</table>\n",
       "</div>"
      ],
      "text/plain": [
       "          A         B         C         D         E\n",
       "0  0.128448 -0.007028  0.406063  0.224619 -0.112626\n",
       "1  0.035867 -0.076149  0.115081  0.100729  0.346266\n",
       "2  0.294256  0.163872  0.496499  0.536332  0.733913\n",
       "3  0.223441  0.589740  0.268639  0.502248  0.575839\n",
       "4  0.207133  0.655951  0.566752  0.779078  1.139448"
      ]
     },
     "execution_count": 34,
     "metadata": {},
     "output_type": "execute_result"
    }
   ],
   "source": [
    "df = pd.read_csv('lingvforecast/data/dummy_data.csv', index_col=0)\n",
    "df.head()"
   ]
  },
  {
   "cell_type": "code",
   "execution_count": 35,
   "metadata": {},
   "outputs": [],
   "source": [
    "from lingvforecast.ling_methods import ling_method"
   ]
  },
  {
   "cell_type": "code",
   "execution_count": 36,
   "metadata": {},
   "outputs": [
    {
     "name": "stdout",
     "output_type": "stream",
     "text": [
      "[13.0185124  18.21042825 24.09459955]\n"
     ]
    }
   ],
   "source": [
    "print(ling_method([0, 1, 4, 9], [9, 16, 25, 36, 49, 64, 81], horizon=3))"
   ]
  },
  {
   "cell_type": "code",
   "execution_count": 37,
   "metadata": {},
   "outputs": [
    {
     "name": "stdout",
     "output_type": "stream",
     "text": [
      "[ 7.  9. 11.]\n"
     ]
    }
   ],
   "source": [
    "print(ling_method([1, 3, 5], [7, 9, 11, 13, 15, 17], horizon=3))"
   ]
  },
  {
   "attachments": {},
   "cell_type": "markdown",
   "metadata": {},
   "source": [
    "# Test predict"
   ]
  },
  {
   "cell_type": "code",
   "execution_count": 1,
   "metadata": {},
   "outputs": [],
   "source": [
    "from lingvforecast.models import LingvForecast\n",
    "from sklearn.model_selection import train_test_split\n",
    "import pandas as pd\n",
    "import matplotlib.pyplot as plt\n",
    "import numpy as np"
   ]
  },
  {
   "cell_type": "code",
   "execution_count": 2,
   "metadata": {},
   "outputs": [
    {
     "data": {
      "text/html": [
       "<div>\n",
       "<style scoped>\n",
       "    .dataframe tbody tr th:only-of-type {\n",
       "        vertical-align: middle;\n",
       "    }\n",
       "\n",
       "    .dataframe tbody tr th {\n",
       "        vertical-align: top;\n",
       "    }\n",
       "\n",
       "    .dataframe thead th {\n",
       "        text-align: right;\n",
       "    }\n",
       "</style>\n",
       "<table border=\"1\" class=\"dataframe\">\n",
       "  <thead>\n",
       "    <tr style=\"text-align: right;\">\n",
       "      <th></th>\n",
       "      <th>A</th>\n",
       "      <th>B</th>\n",
       "      <th>C</th>\n",
       "      <th>D</th>\n",
       "      <th>E</th>\n",
       "    </tr>\n",
       "  </thead>\n",
       "  <tbody>\n",
       "    <tr>\n",
       "      <th>0</th>\n",
       "      <td>0.128448</td>\n",
       "      <td>-0.007028</td>\n",
       "      <td>0.406063</td>\n",
       "      <td>0.224619</td>\n",
       "      <td>-0.112626</td>\n",
       "    </tr>\n",
       "    <tr>\n",
       "      <th>1</th>\n",
       "      <td>0.035867</td>\n",
       "      <td>-0.076149</td>\n",
       "      <td>0.115081</td>\n",
       "      <td>0.100729</td>\n",
       "      <td>0.346266</td>\n",
       "    </tr>\n",
       "    <tr>\n",
       "      <th>2</th>\n",
       "      <td>0.294256</td>\n",
       "      <td>0.163872</td>\n",
       "      <td>0.496499</td>\n",
       "      <td>0.536332</td>\n",
       "      <td>0.733913</td>\n",
       "    </tr>\n",
       "    <tr>\n",
       "      <th>3</th>\n",
       "      <td>0.223441</td>\n",
       "      <td>0.589740</td>\n",
       "      <td>0.268639</td>\n",
       "      <td>0.502248</td>\n",
       "      <td>0.575839</td>\n",
       "    </tr>\n",
       "    <tr>\n",
       "      <th>4</th>\n",
       "      <td>0.207133</td>\n",
       "      <td>0.655951</td>\n",
       "      <td>0.566752</td>\n",
       "      <td>0.779078</td>\n",
       "      <td>1.139448</td>\n",
       "    </tr>\n",
       "  </tbody>\n",
       "</table>\n",
       "</div>"
      ],
      "text/plain": [
       "          A         B         C         D         E\n",
       "0  0.128448 -0.007028  0.406063  0.224619 -0.112626\n",
       "1  0.035867 -0.076149  0.115081  0.100729  0.346266\n",
       "2  0.294256  0.163872  0.496499  0.536332  0.733913\n",
       "3  0.223441  0.589740  0.268639  0.502248  0.575839\n",
       "4  0.207133  0.655951  0.566752  0.779078  1.139448"
      ]
     },
     "execution_count": 2,
     "metadata": {},
     "output_type": "execute_result"
    }
   ],
   "source": [
    "df = pd.read_csv('lingvforecast/data/dummy_data.csv', index_col=0)\n",
    "df.head()"
   ]
  },
  {
   "cell_type": "code",
   "execution_count": 3,
   "metadata": {},
   "outputs": [
    {
     "data": {
      "text/plain": [
       "[<matplotlib.lines.Line2D at 0x1fe035cdb20>]"
      ]
     },
     "execution_count": 3,
     "metadata": {},
     "output_type": "execute_result"
    },
    {
     "data": {
      "image/png": "[encoded data removed]",
      "text/plain": [
       "<Figure size 640x480 with 1 Axes>"
      ]
     },
     "metadata": {},
     "output_type": "display_data"
    }
   ],
   "source": [
    "data = df['B']\n",
    "plt.plot(data)"
   ]
  },
  {
   "cell_type": "code",
   "execution_count": 4,
   "metadata": {},
   "outputs": [
    {
     "data": {
      "text/plain": [
       "[<matplotlib.lines.Line2D at 0x1fe05645f70>]"
      ]
     },
     "execution_count": 4,
     "metadata": {},
     "output_type": "execute_result"
    },
    {
     "data": {
      "image/png": "[encoded data removed]",
      "text/plain": [
       "<Figure size 640x480 with 1 Axes>"
      ]
     },
     "metadata": {},
     "output_type": "display_data"
    }
   ],
   "source": [
    "data = data.rolling(window=3).mean()\n",
    "plt.plot(data)"
   ]
  },
  {
   "cell_type": "code",
   "execution_count": 5,
   "metadata": {},
   "outputs": [
    {
     "name": "stdout",
     "output_type": "stream",
     "text": [
      "80 20\n"
     ]
    }
   ],
   "source": [
    "# data split train and test\n",
    "train_data, test_data = train_test_split(data, test_size=0.2, shuffle=False)\n",
    "print(len(train_data), len(test_data))"
   ]
  },
  {
   "cell_type": "code",
   "execution_count": 13,
   "metadata": {},
   "outputs": [
    {
     "name": "stdout",
     "output_type": "stream",
     "text": [
      "------ Max power = 18 -----\n",
      "[-0.83821796 -0.71842733 -0.60187398 -0.472046   -0.39731332 -0.30438899\n",
      " -0.3109144  -0.30549021]\n"
     ]
    }
   ],
   "source": [
    "horizon = 8\n",
    "model = LingvForecast()\n",
    "# model.fit(np.array(train_data), np.array(df['A']), np.array(df['C']), np.array(df['D']), np.array(df['E']), corrcoef=0.8)\n",
    "# model.fit(np.array(train_data), corrcoef=0.8)\n",
    "model.fit(np.array(train_data), np.array(df['A'].rolling(window=3).mean()), np.array(df['C'].rolling(window=3).mean()), np.array(df['D'].rolling(window=3).mean()), np.array(df['E'].rolling(window=3).mean()), top=20, corrcoef=0.8)\n",
    "res = model.predict(test_data[:-horizon], horizon=horizon)\n",
    "print(res)"
   ]
  },
  {
   "cell_type": "code",
   "execution_count": 19,
   "metadata": {},
   "outputs": [],
   "source": [
    "candidates = model.get_candidates()"
   ]
  },
  {
   "cell_type": "code",
   "execution_count": 18,
   "metadata": {},
   "outputs": [
    {
     "data": {
      "text/plain": [
       "[0.9799428200867046,\n",
       " 0.9827022531696397,\n",
       " 0.9762044359571979,\n",
       " 0.9618540051012566,\n",
       " 0.9520622479224842,\n",
       " 0.9755147113737039,\n",
       " 0.9530681043946518,\n",
       " 0.952872222659986,\n",
       " 0.9866355516253407,\n",
       " 0.9619930619527101,\n",
       " 0.9556706570899097,\n",
       " 0.9679926716597672]"
      ]
     },
     "execution_count": 18,
     "metadata": {},
     "output_type": "execute_result"
    }
   ],
   "source": [
    "from lingvforecast.ling_methods import row_corr\n",
    "row = candidates[0]\n",
    "[row_corr(row, r) for r in candidates[1:] if row_corr(row, r) >= 0.95]"
   ]
  },
  {
   "cell_type": "code",
   "execution_count": 10,
   "metadata": {},
   "outputs": [
    {
     "name": "stdout",
     "output_type": "stream",
     "text": [
      "92   -0.929903\n",
      "93   -0.767521\n",
      "94   -0.591725\n",
      "95   -0.685371\n",
      "96   -0.645537\n",
      "97   -0.675844\n",
      "98   -0.294524\n",
      "99   -0.081985\n",
      "Name: B, dtype: float64\n"
     ]
    }
   ],
   "source": [
    "print(test_data[-horizon:])"
   ]
  },
  {
   "cell_type": "code",
   "execution_count": 42,
   "metadata": {},
   "outputs": [
    {
     "data": {
      "image/png": "[encoded data removed]",
      "text/plain": [
       "<Figure size 640x480 with 1 Axes>"
      ]
     },
     "metadata": {},
     "output_type": "display_data"
    }
   ],
   "source": [
    "plt.plot(data)\n",
    "plt.plot(test_data[-horizon:].index, test_data[-horizon:])\n",
    "plt.plot(test_data[-horizon:].index, res)\n",
    "plt.show()"
   ]
  },
  {
   "attachments": {},
   "cell_type": "markdown",
   "metadata": {},
   "source": [
    "# Test result forecast method"
   ]
  },
  {
   "cell_type": "code",
   "execution_count": 1,
   "metadata": {},
   "outputs": [],
   "source": [
    "from lingvforecast.models import LingvForecast\n",
    "from sklearn.model_selection import train_test_split\n",
    "import pandas as pd\n",
    "import matplotlib.pyplot as plt\n",
    "import numpy as np"
   ]
  },
  {
   "cell_type": "code",
   "execution_count": 30,
   "metadata": {},
   "outputs": [],
   "source": [
    "import random\n",
    "import matplotlib.pyplot as plt\n",
    "\n",
    "def generate_curves(length, num_curves):\n",
    "    curves = []\n",
    "    for i in range(num_curves):\n",
    "        curve = []\n",
    "        for j in range(length):\n",
    "            curve.append(random.uniform(-1, 1))\n",
    "        curves.append(curve)\n",
    "    return curves\n",
    "\n",
    "def plot_curves(curves):\n",
    "    for curve in curves:\n",
    "        plt.plot(curve)\n",
    "    plt.show()\n",
    "\n",
    "# Пример использования\n",
    "curves = generate_curves(5, 200)\n",
    "# plot_curves(curves)"
   ]
  },
  {
   "cell_type": "code",
   "execution_count": 31,
   "metadata": {},
   "outputs": [],
   "source": [
    "from lingvforecast.ling_methods import row_corr"
   ]
  },
  {
   "cell_type": "code",
   "execution_count": 32,
   "metadata": {},
   "outputs": [
    {
     "data": {
      "text/plain": [
       "[0.8609506178602676,\n",
       " 0.9757025210511293,\n",
       " 0.9645250236503156,\n",
       " 0.8774602885046161]"
      ]
     },
     "execution_count": 32,
     "metadata": {},
     "output_type": "execute_result"
    }
   ],
   "source": [
    "[row_corr(curves[0], el) for el in curves[1:] if row_corr(curves[0], el) >= 0.85]"
   ]
  },
  {
   "cell_type": "code",
   "execution_count": 3,
   "metadata": {},
   "outputs": [],
   "source": [
    "model = LingvForecast()\n",
    "res = model._group_curves_by_correlation(curves)"
   ]
  },
  {
   "cell_type": "code",
   "execution_count": 5,
   "metadata": {},
   "outputs": [
    {
     "data": {
      "text/plain": [
       "[1, 1, 1, 1, 1]"
      ]
     },
     "execution_count": 5,
     "metadata": {},
     "output_type": "execute_result"
    }
   ],
   "source": [
    "[len(el) for el in res]"
   ]
  },
  {
   "cell_type": "code",
   "execution_count": null,
   "metadata": {},
   "outputs": [],
   "source": []
  }
 ],
 "metadata": {
  "kernelspec": {
   "display_name": "base",
   "language": "python",
   "name": "python3"
  },
  "language_info": {
   "codemirror_mode": {
    "name": "ipython",
    "version": 3
   },
   "file_extension": ".py",
   "mimetype": "text/x-python",
   "name": "python",
   "nbconvert_exporter": "python",
   "pygments_lexer": "ipython3",
   "version": "3.9.13"
  },
  "orig_nbformat": 4
 },
 "nbformat": 4,
 "nbformat_minor": 2
}
