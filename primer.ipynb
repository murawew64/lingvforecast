{
 "cells": [
  {
   "cell_type": "code",
   "execution_count": 1,
   "metadata": {},
   "outputs": [],
   "source": [
    "import numpy as np\n",
    "import pandas as pd\n",
    "import matplotlib.pyplot as plt"
   ]
  },
  {
   "cell_type": "code",
   "execution_count": 2,
   "metadata": {},
   "outputs": [
    {
     "data": {
      "text/html": [
       "<div>\n",
       "<style scoped>\n",
       "    .dataframe tbody tr th:only-of-type {\n",
       "        vertical-align: middle;\n",
       "    }\n",
       "\n",
       "    .dataframe tbody tr th {\n",
       "        vertical-align: top;\n",
       "    }\n",
       "\n",
       "    .dataframe thead th {\n",
       "        text-align: right;\n",
       "    }\n",
       "</style>\n",
       "<table border=\"1\" class=\"dataframe\">\n",
       "  <thead>\n",
       "    <tr style=\"text-align: right;\">\n",
       "      <th></th>\n",
       "      <th>A</th>\n",
       "      <th>B</th>\n",
       "      <th>C</th>\n",
       "      <th>D</th>\n",
       "      <th>E</th>\n",
       "    </tr>\n",
       "  </thead>\n",
       "  <tbody>\n",
       "    <tr>\n",
       "      <th>0</th>\n",
       "      <td>0.128448</td>\n",
       "      <td>-0.007028</td>\n",
       "      <td>0.406063</td>\n",
       "      <td>0.224619</td>\n",
       "      <td>-0.112626</td>\n",
       "    </tr>\n",
       "    <tr>\n",
       "      <th>1</th>\n",
       "      <td>0.035867</td>\n",
       "      <td>-0.076149</td>\n",
       "      <td>0.115081</td>\n",
       "      <td>0.100729</td>\n",
       "      <td>0.346266</td>\n",
       "    </tr>\n",
       "    <tr>\n",
       "      <th>2</th>\n",
       "      <td>0.294256</td>\n",
       "      <td>0.163872</td>\n",
       "      <td>0.496499</td>\n",
       "      <td>0.536332</td>\n",
       "      <td>0.733913</td>\n",
       "    </tr>\n",
       "    <tr>\n",
       "      <th>3</th>\n",
       "      <td>0.223441</td>\n",
       "      <td>0.589740</td>\n",
       "      <td>0.268639</td>\n",
       "      <td>0.502248</td>\n",
       "      <td>0.575839</td>\n",
       "    </tr>\n",
       "    <tr>\n",
       "      <th>4</th>\n",
       "      <td>0.207133</td>\n",
       "      <td>0.655951</td>\n",
       "      <td>0.566752</td>\n",
       "      <td>0.779078</td>\n",
       "      <td>1.139448</td>\n",
       "    </tr>\n",
       "  </tbody>\n",
       "</table>\n",
       "</div>"
      ],
      "text/plain": [
       "          A         B         C         D         E\n",
       "0  0.128448 -0.007028  0.406063  0.224619 -0.112626\n",
       "1  0.035867 -0.076149  0.115081  0.100729  0.346266\n",
       "2  0.294256  0.163872  0.496499  0.536332  0.733913\n",
       "3  0.223441  0.589740  0.268639  0.502248  0.575839\n",
       "4  0.207133  0.655951  0.566752  0.779078  1.139448"
      ]
     },
     "execution_count": 2,
     "metadata": {},
     "output_type": "execute_result"
    }
   ],
   "source": [
    "df = pd.read_csv('lingvforecast/data/dummy_data.csv', index_col=0)\n",
    "df.head()"
   ]
  },
  {
   "cell_type": "code",
   "execution_count": 1,
   "metadata": {},
   "outputs": [],
   "source": [
    "from lingvforecast.ling_methods import ling_method"
   ]
  },
  {
   "cell_type": "code",
   "execution_count": 4,
   "metadata": {},
   "outputs": [
    {
     "name": "stdout",
     "output_type": "stream",
     "text": [
      "[13.0185124  18.21042825 24.09459955]\n"
     ]
    }
   ],
   "source": [
    "print(ling_method([0, 1, 4, 9], [9, 16, 25, 36, 49, 64, 81], horizon=3))"
   ]
  },
  {
   "cell_type": "code",
   "execution_count": 5,
   "metadata": {},
   "outputs": [
    {
     "name": "stdout",
     "output_type": "stream",
     "text": [
      "[ 7.  9. 11.]\n"
     ]
    }
   ],
   "source": [
    "print(ling_method([1, 3, 5], [7, 9, 11, 13, 15, 17], horizon=3))"
   ]
  },
  {
   "cell_type": "code",
   "execution_count": 7,
   "metadata": {},
   "outputs": [],
   "source": [
    "from lingvforecast.models import LingvForecast\n",
    "from sklearn.model_selection import train_test_split\n",
    "import pandas as pd"
   ]
  },
  {
   "cell_type": "code",
   "execution_count": 8,
   "metadata": {},
   "outputs": [
    {
     "data": {
      "text/html": [
       "<div>\n",
       "<style scoped>\n",
       "    .dataframe tbody tr th:only-of-type {\n",
       "        vertical-align: middle;\n",
       "    }\n",
       "\n",
       "    .dataframe tbody tr th {\n",
       "        vertical-align: top;\n",
       "    }\n",
       "\n",
       "    .dataframe thead th {\n",
       "        text-align: right;\n",
       "    }\n",
       "</style>\n",
       "<table border=\"1\" class=\"dataframe\">\n",
       "  <thead>\n",
       "    <tr style=\"text-align: right;\">\n",
       "      <th></th>\n",
       "      <th>A</th>\n",
       "      <th>B</th>\n",
       "      <th>C</th>\n",
       "      <th>D</th>\n",
       "      <th>E</th>\n",
       "    </tr>\n",
       "  </thead>\n",
       "  <tbody>\n",
       "    <tr>\n",
       "      <th>0</th>\n",
       "      <td>0.128448</td>\n",
       "      <td>-0.007028</td>\n",
       "      <td>0.406063</td>\n",
       "      <td>0.224619</td>\n",
       "      <td>-0.112626</td>\n",
       "    </tr>\n",
       "    <tr>\n",
       "      <th>1</th>\n",
       "      <td>0.035867</td>\n",
       "      <td>-0.076149</td>\n",
       "      <td>0.115081</td>\n",
       "      <td>0.100729</td>\n",
       "      <td>0.346266</td>\n",
       "    </tr>\n",
       "    <tr>\n",
       "      <th>2</th>\n",
       "      <td>0.294256</td>\n",
       "      <td>0.163872</td>\n",
       "      <td>0.496499</td>\n",
       "      <td>0.536332</td>\n",
       "      <td>0.733913</td>\n",
       "    </tr>\n",
       "    <tr>\n",
       "      <th>3</th>\n",
       "      <td>0.223441</td>\n",
       "      <td>0.589740</td>\n",
       "      <td>0.268639</td>\n",
       "      <td>0.502248</td>\n",
       "      <td>0.575839</td>\n",
       "    </tr>\n",
       "    <tr>\n",
       "      <th>4</th>\n",
       "      <td>0.207133</td>\n",
       "      <td>0.655951</td>\n",
       "      <td>0.566752</td>\n",
       "      <td>0.779078</td>\n",
       "      <td>1.139448</td>\n",
       "    </tr>\n",
       "  </tbody>\n",
       "</table>\n",
       "</div>"
      ],
      "text/plain": [
       "          A         B         C         D         E\n",
       "0  0.128448 -0.007028  0.406063  0.224619 -0.112626\n",
       "1  0.035867 -0.076149  0.115081  0.100729  0.346266\n",
       "2  0.294256  0.163872  0.496499  0.536332  0.733913\n",
       "3  0.223441  0.589740  0.268639  0.502248  0.575839\n",
       "4  0.207133  0.655951  0.566752  0.779078  1.139448"
      ]
     },
     "execution_count": 8,
     "metadata": {},
     "output_type": "execute_result"
    }
   ],
   "source": [
    "df = pd.read_csv('lingvforecast/data/dummy_data.csv', index_col=0)\n",
    "df.head()"
   ]
  },
  {
   "cell_type": "code",
   "execution_count": 10,
   "metadata": {},
   "outputs": [
    {
     "name": "stdout",
     "output_type": "stream",
     "text": [
      "80 20\n"
     ]
    }
   ],
   "source": [
    "data = df['A']\n",
    "# data split train and test\n",
    "train_data, test_data = train_test_split(data, test_size=0.2, shuffle=False)\n",
    "print(len(train_data), len(test_data))"
   ]
  },
  {
   "cell_type": "code",
   "execution_count": null,
   "metadata": {},
   "outputs": [],
   "source": [
    "model = LingvForecast()\n",
    "model.fit(train_data)\n",
    "print(model.predict(test_data[:-5], horizon=5))"
   ]
  }
 ],
 "metadata": {
  "kernelspec": {
   "display_name": "base",
   "language": "python",
   "name": "python3"
  },
  "language_info": {
   "codemirror_mode": {
    "name": "ipython",
    "version": 3
   },
   "file_extension": ".py",
   "mimetype": "text/x-python",
   "name": "python",
   "nbconvert_exporter": "python",
   "pygments_lexer": "ipython3",
   "version": "3.9.13"
  },
  "orig_nbformat": 4
 },
 "nbformat": 4,
 "nbformat_minor": 2
}
